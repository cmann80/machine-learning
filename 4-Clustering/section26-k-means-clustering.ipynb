{
 "cells": [
  {
   "cell_type": "markdown",
   "metadata": {},
   "source": [
    "# K-Means Clustering"
   ]
  },
  {
   "cell_type": "markdown",
   "metadata": {},
   "source": [
    "## Importing the libraries"
   ]
  },
  {
   "cell_type": "code",
   "execution_count": null,
   "metadata": {},
   "outputs": [],
   "source": [
    "\n",
    "import numpy as np\n",
    "import matplotlib.pyplot as plt\n",
    "import pandas as pd"
   ]
  },
  {
   "cell_type": "markdown",
   "metadata": {},
   "source": [
    "## Importing the dataset"
   ]
  },
  {
   "cell_type": "code",
   "execution_count": null,
   "metadata": {},
   "outputs": [],
   "source": [
    "dataset = pd.read_csv(\"Mall_Customers.csv\")\n",
    "\n",
    "# this time there is no dependent variable to start with; we are going to generate them \n",
    "# the customer ID column is worthless and should be excluded\n",
    "# to get a 2D chart, we will use only income and spending score (columns 3 and 4)\n",
    "X = dataset.iloc[:, [3, 4]].values"
   ]
  },
  {
   "cell_type": "markdown",
   "metadata": {},
   "source": [
    "## Using the elbow method to find the optimal number of clusters"
   ]
  },
  {
   "cell_type": "code",
   "execution_count": null,
   "metadata": {},
   "outputs": [],
   "source": [
    "from sklearn.cluster import KMeans\n",
    "\n",
    "# a for loop to fill the array with the result of 1 cluster, 2 clusters etc)\n",
    "wcss = []\n",
    "for i in range (1, 11):\n",
    "    kmeans = KMeans(n_clusters= i, init= \"k-means++\", random_state=42) # a random seed of 42 supposedly brings luck\n",
    "    kmeans.fit(X)\n",
    "    wcss.append(kmeans.inertia_)\n",
    "\n",
    "plt.plot(range (1, 11), wcss)\n",
    "plt.title(\"The Elbow Method\")\n",
    "plt.xlabel(\"Number of clusters\")\n",
    "plt.ylabel(\"WCSS\")\n",
    "plt.show()"
   ]
  },
  {
   "cell_type": "markdown",
   "metadata": {},
   "source": [
    "## Training the K-Means model on the dataset"
   ]
  },
  {
   "cell_type": "code",
   "execution_count": null,
   "metadata": {},
   "outputs": [],
   "source": [
    "# chose 5 clusters based on a visual examination of the Elbow Method graph\n",
    "kmeans = KMeans(n_clusters= 5, init= \"k-means++\", random_state=42)\n",
    "y_kmeans = kmeans.fit_predict(X)"
   ]
  },
  {
   "cell_type": "code",
   "execution_count": null,
   "metadata": {},
   "outputs": [],
   "source": [
    "print (y_kmeans)\n",
    "# each list item is one customer in the order of the dataset; the number is the cluster they go into"
   ]
  },
  {
   "cell_type": "markdown",
   "metadata": {},
   "source": [
    "## Visualizing the clusters"
   ]
  },
  {
   "cell_type": "code",
   "execution_count": null,
   "metadata": {},
   "outputs": [],
   "source": [
    "# this only selects the customers that the y_kmeans list has a 0 for (I don't totally understand this syntax)\n",
    "# x axis is income, y axis is spending score\n",
    "plt.scatter(X[y_kmeans == 0 ,0], X[y_kmeans == 0, 1], s=100, c= \"red\", label = \"Cluster 1\")\n",
    "plt.scatter(X[y_kmeans == 1 ,0], X[y_kmeans == 1, 1], s=100, c= \"blue\", label = \"Cluster 2\")\n",
    "plt.scatter(X[y_kmeans == 2 ,0], X[y_kmeans == 2, 1], s=100, c= \"green\", label = \"Cluster 3\")\n",
    "plt.scatter(X[y_kmeans == 3 ,0], X[y_kmeans == 3, 1], s=100, c= \"cyan\", label = \"Cluster 4\")\n",
    "plt.scatter(X[y_kmeans == 4 ,0], X[y_kmeans == 4, 1], s=100, c= \"magenta\", label = \"Cluster 5\")\n",
    "# plotting the centeroids means taking the cluster_centers value of the kmeans object, columns 0 for x and 1 for y\n",
    "plt.scatter(kmeans.cluster_centers_[:, 0], kmeans.cluster_centers_[:, 1], s = 300, c = \"yellow\", label = \"Centroids\")\n",
    "plt.title(\"Clusters of Customers\")\n",
    "plt.xlabel(\"Annual Income\")\n",
    "plt.ylabel(\"Spending Score 1-100\")\n",
    "plt.legend()\n",
    "plt.show()\n"
   ]
  },
  {
   "cell_type": "markdown",
   "metadata": {},
   "source": []
  }
 ],
 "metadata": {
  "kernelspec": {
   "display_name": "Python 3",
   "language": "python",
   "name": "python3"
  },
  "language_info": {
   "codemirror_mode": {
    "name": "ipython",
    "version": 3
   },
   "file_extension": ".py",
   "mimetype": "text/x-python",
   "name": "python",
   "nbconvert_exporter": "python",
   "pygments_lexer": "ipython3",
   "version": "3.10.8"
  },
  "orig_nbformat": 4
 },
 "nbformat": 4,
 "nbformat_minor": 2
}
