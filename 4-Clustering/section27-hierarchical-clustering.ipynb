{
 "cells": [
  {
   "cell_type": "markdown",
   "metadata": {},
   "source": [
    "# K-Means Clustering"
   ]
  },
  {
   "cell_type": "markdown",
   "metadata": {},
   "source": [
    "## Importing the libraries"
   ]
  },
  {
   "cell_type": "code",
   "execution_count": null,
   "metadata": {},
   "outputs": [],
   "source": [
    "\n",
    "import numpy as np\n",
    "import matplotlib.pyplot as plt\n",
    "import pandas as pd"
   ]
  },
  {
   "cell_type": "markdown",
   "metadata": {},
   "source": [
    "## Importing the dataset"
   ]
  },
  {
   "cell_type": "code",
   "execution_count": null,
   "metadata": {},
   "outputs": [],
   "source": [
    "dataset = pd.read_csv(\"Mall_Customers.csv\")\n",
    "\n",
    "# this time there is no dependent variable to start with; we are going to generate them \n",
    "# the customer ID column is worthless and should be excluded\n",
    "# to get a 2D chart, we will use only income and spending score (columns 3 and 4)\n",
    "X = dataset.iloc[:, [3, 4]].values"
   ]
  },
  {
   "cell_type": "markdown",
   "metadata": {},
   "source": [
    "## Using the dendrogram to find the optimal number of clusters"
   ]
  },
  {
   "cell_type": "code",
   "execution_count": null,
   "metadata": {},
   "outputs": [],
   "source": [
    "# equivalent to \"sch = from scipy.cluster import hierarchy\"\n",
    "# \"ward\" minimizes the variance inside the clusters\n",
    "import scipy.cluster.hierarchy as sch\n",
    "dendrogram = sch.dendrogram(sch.linkage(X, method=\"ward\"))\n",
    "plt.title(\"Dendrogram\")\n",
    "plt.xlabel(\"Customers\")\n",
    "# Y axis label is always the same\n",
    "plt.ylabel(\"Euclidean Distance\")\n",
    "plt.show()\n",
    "# save the output dendrogram as an image, draw a horizontal line that represents the largest distance you can move vertically without touching another horizontal line\n",
    "# three and five clusters are very close; either would be a good choice. Not four though "
   ]
  },
  {
   "cell_type": "markdown",
   "metadata": {},
   "source": [
    "## Training the Hierarchical Clustering model on the dataset"
   ]
  },
  {
   "cell_type": "code",
   "execution_count": null,
   "metadata": {},
   "outputs": [],
   "source": [
    "from sklearn.cluster import AgglomerativeClustering\n",
    "hc = AgglomerativeClustering(n_clusters=5, affinity=\"euclidean\", linkage=\"ward\")\n",
    "# 3 clusters will combine the center, top left and bottom left, which could have value or not depending on the domain\n",
    "y_hc = hc.fit_predict(X)"
   ]
  },
  {
   "cell_type": "code",
   "execution_count": null,
   "metadata": {},
   "outputs": [],
   "source": [
    "print(y_hc)"
   ]
  },
  {
   "cell_type": "markdown",
   "metadata": {},
   "source": [
    "## Visualizing the clusters"
   ]
  },
  {
   "cell_type": "code",
   "execution_count": null,
   "metadata": {},
   "outputs": [],
   "source": [
    "# this only selects the customers that the y_hc list has a 0 for (I don't totally understand this syntax)\n",
    "# x axis is income, y axis is spending score\n",
    "plt.scatter(X[y_hc == 0 ,0], X[y_hc == 0, 1], s=100, c= \"red\", label = \"Cluster 1\")\n",
    "plt.scatter(X[y_hc == 1 ,0], X[y_hc == 1, 1], s=100, c= \"blue\", label = \"Cluster 2\")\n",
    "plt.scatter(X[y_hc == 2 ,0], X[y_hc == 2, 1], s=100, c= \"green\", label = \"Cluster 3\")\n",
    "plt.scatter(X[y_hc == 3 ,0], X[y_hc == 3, 1], s=100, c= \"cyan\", label = \"Cluster 4\")\n",
    "plt.scatter(X[y_hc == 4 ,0], X[y_hc == 4, 1], s=100, c= \"magenta\", label = \"Cluster 5\")\n",
    "plt.title(\"Clusters of Customers\")\n",
    "plt.xlabel(\"Annual Income\")\n",
    "plt.ylabel(\"Spending Score 1-100\")\n",
    "plt.legend()\n",
    "plt.show()\n"
   ]
  },
  {
   "cell_type": "markdown",
   "metadata": {},
   "source": []
  }
 ],
 "metadata": {
  "kernelspec": {
   "display_name": "Python 3",
   "language": "python",
   "name": "python3"
  },
  "language_info": {
   "codemirror_mode": {
    "name": "ipython",
    "version": 3
   },
   "file_extension": ".py",
   "mimetype": "text/x-python",
   "name": "python",
   "nbconvert_exporter": "python",
   "pygments_lexer": "ipython3",
   "version": "3.10.8"
  },
  "orig_nbformat": 4
 },
 "nbformat": 4,
 "nbformat_minor": 2
}
