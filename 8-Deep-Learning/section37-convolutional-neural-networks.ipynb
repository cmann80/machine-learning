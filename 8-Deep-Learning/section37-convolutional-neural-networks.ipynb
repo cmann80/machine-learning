{
 "cells": [
  {
   "cell_type": "markdown",
   "metadata": {},
   "source": [
    "# Convolutional Neural Network"
   ]
  },
  {
   "cell_type": "markdown",
   "metadata": {},
   "source": [
    "### Importing the Libraries"
   ]
  },
  {
   "cell_type": "code",
   "execution_count": 1,
   "metadata": {},
   "outputs": [
    {
     "name": "stderr",
     "output_type": "stream",
     "text": [
      "2023-10-10 17:54:01.032836: I tensorflow/tsl/cuda/cudart_stub.cc:28] Could not find cuda drivers on your machine, GPU will not be used.\n",
      "2023-10-10 17:54:03.632355: E tensorflow/compiler/xla/stream_executor/cuda/cuda_dnn.cc:9342] Unable to register cuDNN factory: Attempting to register factory for plugin cuDNN when one has already been registered\n",
      "2023-10-10 17:54:03.632386: E tensorflow/compiler/xla/stream_executor/cuda/cuda_fft.cc:609] Unable to register cuFFT factory: Attempting to register factory for plugin cuFFT when one has already been registered\n",
      "2023-10-10 17:54:03.635347: E tensorflow/compiler/xla/stream_executor/cuda/cuda_blas.cc:1518] Unable to register cuBLAS factory: Attempting to register factory for plugin cuBLAS when one has already been registered\n",
      "2023-10-10 17:54:04.605533: I tensorflow/tsl/cuda/cudart_stub.cc:28] Could not find cuda drivers on your machine, GPU will not be used.\n",
      "2023-10-10 17:54:04.606468: I tensorflow/core/platform/cpu_feature_guard.cc:182] This TensorFlow binary is optimized to use available CPU instructions in performance-critical operations.\n",
      "To enable the following instructions: AVX2 FMA, in other operations, rebuild TensorFlow with the appropriate compiler flags.\n",
      "2023-10-10 17:54:09.109982: W tensorflow/compiler/tf2tensorrt/utils/py_utils.cc:38] TF-TRT Warning: Could not find TensorRT\n"
     ]
    }
   ],
   "source": [
    "import tensorflow as tf\n",
    "from keras.preprocessing.image import ImageDataGenerator\n",
    "# the dataset isn't numbers this time so no pandas or numpy"
   ]
  },
  {
   "cell_type": "code",
   "execution_count": 2,
   "metadata": {},
   "outputs": [
    {
     "data": {
      "text/plain": [
       "'2.14.0'"
      ]
     },
     "execution_count": 2,
     "metadata": {},
     "output_type": "execute_result"
    }
   ],
   "source": [
    "tf.__version__"
   ]
  },
  {
   "cell_type": "markdown",
   "metadata": {},
   "source": [
    "## Part 1- Data Preprocessing"
   ]
  },
  {
   "cell_type": "markdown",
   "metadata": {},
   "source": [
    "### Preprocessing the Training set"
   ]
  },
  {
   "cell_type": "code",
   "execution_count": 3,
   "metadata": {},
   "outputs": [
    {
     "name": "stdout",
     "output_type": "stream",
     "text": [
      "Found 8000 images belonging to 2 classes.\n"
     ]
    }
   ],
   "source": [
    "train_datagen = ImageDataGenerator(\n",
    "    rescale=1./255,\n",
    "    shear_range=0.2,\n",
    "    zoom_range=0.2,\n",
    "    horizontal_flip=True\n",
    ")\n",
    "# these random transformations help prevent overfitting \n",
    "# (the CNN finding features that are common to the pictures in general but not the target)\n",
    "training_set = train_datagen.flow_from_directory(\n",
    "    \"dataset/training_set/\",\n",
    "    target_size=(64, 64),\n",
    "    batch_size=32, \n",
    "    class_mode=\"binary\"\n",
    ")"
   ]
  },
  {
   "cell_type": "markdown",
   "metadata": {},
   "source": [
    "### Preprocessing the Test set"
   ]
  },
  {
   "cell_type": "code",
   "execution_count": 4,
   "metadata": {},
   "outputs": [
    {
     "name": "stdout",
     "output_type": "stream",
     "text": [
      "Found 2000 images belonging to 2 classes.\n"
     ]
    }
   ],
   "source": [
    "test_datagen = ImageDataGenerator(rescale=1./255)\n",
    "test_set = test_datagen.flow_from_directory(\n",
    "    \"dataset/test_set/\",\n",
    "    target_size=(150, 150),\n",
    "    batch_size=32,\n",
    "    class_mode=\"binary\"\n",
    ")"
   ]
  },
  {
   "cell_type": "markdown",
   "metadata": {},
   "source": [
    "## Part 2- Building the CNN"
   ]
  },
  {
   "cell_type": "markdown",
   "metadata": {},
   "source": [
    "### Initialising the CNN"
   ]
  },
  {
   "cell_type": "code",
   "execution_count": 5,
   "metadata": {},
   "outputs": [],
   "source": [
    "cnn = tf.keras.models.Sequential()"
   ]
  },
  {
   "cell_type": "markdown",
   "metadata": {},
   "source": [
    "### Step 1 - Convolution"
   ]
  },
  {
   "cell_type": "code",
   "execution_count": 6,
   "metadata": {},
   "outputs": [],
   "source": [
    "cnn.add(tf.keras.layers.Conv2D(filters=32, kernel_size=3, activation=\"relu\", input_shape=[64, 64, 3]))\n",
    "# creates the feature map"
   ]
  },
  {
   "cell_type": "markdown",
   "metadata": {},
   "source": [
    "### Step 2 - Pooling"
   ]
  },
  {
   "cell_type": "code",
   "execution_count": 7,
   "metadata": {},
   "outputs": [],
   "source": [
    "cnn.add((tf.keras.layers.MaxPool2D(pool_size=2, strides=2)))\n",
    "# transforms the feature map into a pooled feature map\n",
    "# a 2x2 frame and then how many pixels it shifts each move"
   ]
  },
  {
   "cell_type": "markdown",
   "metadata": {},
   "source": [
    "### Adding a second convolutional layer"
   ]
  },
  {
   "cell_type": "code",
   "execution_count": 8,
   "metadata": {},
   "outputs": [],
   "source": [
    "cnn.add(tf.keras.layers.Conv2D(filters=32, kernel_size=3, activation=\"relu\"))\n",
    "cnn.add((tf.keras.layers.MaxPool2D(pool_size=2, strides=2)))\n",
    "# pools it down one more time\n",
    "# doesn't need an input shape because it's not connected to the input layer"
   ]
  },
  {
   "cell_type": "markdown",
   "metadata": {},
   "source": [
    "### Step 3 - Flattening"
   ]
  },
  {
   "cell_type": "code",
   "execution_count": 9,
   "metadata": {},
   "outputs": [],
   "source": [
    "cnn.add(tf.keras.layers.Flatten())\n",
    "# turns the matrix into a 1d vector"
   ]
  },
  {
   "cell_type": "markdown",
   "metadata": {},
   "source": [
    "### Step 4 - Full Connection"
   ]
  },
  {
   "cell_type": "code",
   "execution_count": 10,
   "metadata": {},
   "outputs": [],
   "source": [
    "cnn.add(tf.keras.layers.Dense(units=128, activation=\"relu\", input_shape = (None, 100)))\n",
    "# Needs way more neurons than number predictions"
   ]
  },
  {
   "cell_type": "markdown",
   "metadata": {},
   "source": [
    "### Step 5 - Output Layer"
   ]
  },
  {
   "cell_type": "code",
   "execution_count": 11,
   "metadata": {},
   "outputs": [],
   "source": [
    "cnn.add(tf.keras.layers.Dense(units=1, activation=\"sigmoid\"))"
   ]
  },
  {
   "cell_type": "markdown",
   "metadata": {},
   "source": [
    "## Part 3 - Training the CNN"
   ]
  },
  {
   "cell_type": "markdown",
   "metadata": {},
   "source": [
    "### Compiling the CNN"
   ]
  },
  {
   "cell_type": "code",
   "execution_count": 12,
   "metadata": {},
   "outputs": [],
   "source": [
    "cnn.compile(optimizer=\"adam\", loss=\"binary_crossentropy\", metrics=[\"accuracy\"])\n",
    "# It's also binary classification so the same as the ANN"
   ]
  },
  {
   "cell_type": "markdown",
   "metadata": {},
   "source": [
    "### Training the CNN on the Training set and evaluating it on the Test set"
   ]
  },
  {
   "cell_type": "code",
   "execution_count": 13,
   "metadata": {},
   "outputs": [
    {
     "name": "stdout",
     "output_type": "stream",
     "text": [
      "Epoch 1/25\n",
      "250/250 [==============================] - ETA: 0s - loss: 0.6798 - accuracy: 0.5714"
     ]
    },
    {
     "name": "stderr",
     "output_type": "stream",
     "text": [
      "2023-10-10 20:36:14.824607: W tensorflow/tsl/framework/cpu_allocator_impl.cc:83] Allocation of 89718784 exceeds 10% of free system memory.\n"
     ]
    },
    {
     "ename": "InvalidArgumentError",
     "evalue": "Graph execution error:\n\nDetected at node sequential/dense/Relu defined at (most recent call last):\n  File \"/home/codespace/.python/current/lib/python3.10/runpy.py\", line 196, in _run_module_as_main\n\n  File \"/home/codespace/.python/current/lib/python3.10/runpy.py\", line 86, in _run_code\n\n  File \"/home/codespace/.local/lib/python3.10/site-packages/ipykernel_launcher.py\", line 17, in <module>\n\n  File \"/home/codespace/.local/lib/python3.10/site-packages/traitlets/config/application.py\", line 1043, in launch_instance\n\n  File \"/home/codespace/.local/lib/python3.10/site-packages/ipykernel/kernelapp.py\", line 736, in start\n\n  File \"/home/codespace/.local/lib/python3.10/site-packages/tornado/platform/asyncio.py\", line 195, in start\n\n  File \"/home/codespace/.python/current/lib/python3.10/asyncio/base_events.py\", line 603, in run_forever\n\n  File \"/home/codespace/.python/current/lib/python3.10/asyncio/base_events.py\", line 1899, in _run_once\n\n  File \"/home/codespace/.python/current/lib/python3.10/asyncio/events.py\", line 80, in _run\n\n  File \"/home/codespace/.local/lib/python3.10/site-packages/ipykernel/kernelbase.py\", line 516, in dispatch_queue\n\n  File \"/home/codespace/.local/lib/python3.10/site-packages/ipykernel/kernelbase.py\", line 505, in process_one\n\n  File \"/home/codespace/.local/lib/python3.10/site-packages/ipykernel/kernelbase.py\", line 412, in dispatch_shell\n\n  File \"/home/codespace/.local/lib/python3.10/site-packages/ipykernel/kernelbase.py\", line 740, in execute_request\n\n  File \"/home/codespace/.local/lib/python3.10/site-packages/ipykernel/ipkernel.py\", line 422, in do_execute\n\n  File \"/home/codespace/.local/lib/python3.10/site-packages/ipykernel/zmqshell.py\", line 546, in run_cell\n\n  File \"/home/codespace/.local/lib/python3.10/site-packages/IPython/core/interactiveshell.py\", line 3024, in run_cell\n\n  File \"/home/codespace/.local/lib/python3.10/site-packages/IPython/core/interactiveshell.py\", line 3079, in _run_cell\n\n  File \"/home/codespace/.local/lib/python3.10/site-packages/IPython/core/async_helpers.py\", line 129, in _pseudo_sync_runner\n\n  File \"/home/codespace/.local/lib/python3.10/site-packages/IPython/core/interactiveshell.py\", line 3284, in run_cell_async\n\n  File \"/home/codespace/.local/lib/python3.10/site-packages/IPython/core/interactiveshell.py\", line 3466, in run_ast_nodes\n\n  File \"/home/codespace/.local/lib/python3.10/site-packages/IPython/core/interactiveshell.py\", line 3526, in run_code\n\n  File \"/tmp/ipykernel_23371/3542586474.py\", line 1, in <module>\n\n  File \"/home/codespace/.python/current/lib/python3.10/site-packages/keras/src/utils/traceback_utils.py\", line 65, in error_handler\n\n  File \"/home/codespace/.python/current/lib/python3.10/site-packages/keras/src/engine/training.py\", line 1832, in fit\n\n  File \"/home/codespace/.python/current/lib/python3.10/site-packages/keras/src/utils/traceback_utils.py\", line 65, in error_handler\n\n  File \"/home/codespace/.python/current/lib/python3.10/site-packages/keras/src/engine/training.py\", line 2272, in evaluate\n\n  File \"/home/codespace/.python/current/lib/python3.10/site-packages/keras/src/engine/training.py\", line 4079, in run_step\n\n  File \"/home/codespace/.python/current/lib/python3.10/site-packages/keras/src/engine/training.py\", line 2042, in test_function\n\n  File \"/home/codespace/.python/current/lib/python3.10/site-packages/keras/src/engine/training.py\", line 2025, in step_function\n\n  File \"/home/codespace/.python/current/lib/python3.10/site-packages/keras/src/engine/training.py\", line 2013, in run_step\n\n  File \"/home/codespace/.python/current/lib/python3.10/site-packages/keras/src/engine/training.py\", line 1893, in test_step\n\n  File \"/home/codespace/.python/current/lib/python3.10/site-packages/keras/src/utils/traceback_utils.py\", line 65, in error_handler\n\n  File \"/home/codespace/.python/current/lib/python3.10/site-packages/keras/src/engine/training.py\", line 589, in __call__\n\n  File \"/home/codespace/.python/current/lib/python3.10/site-packages/keras/src/utils/traceback_utils.py\", line 65, in error_handler\n\n  File \"/home/codespace/.python/current/lib/python3.10/site-packages/keras/src/engine/base_layer.py\", line 1149, in __call__\n\n  File \"/home/codespace/.python/current/lib/python3.10/site-packages/keras/src/utils/traceback_utils.py\", line 96, in error_handler\n\n  File \"/home/codespace/.python/current/lib/python3.10/site-packages/keras/src/engine/sequential.py\", line 398, in call\n\n  File \"/home/codespace/.python/current/lib/python3.10/site-packages/keras/src/engine/functional.py\", line 515, in call\n\n  File \"/home/codespace/.python/current/lib/python3.10/site-packages/keras/src/engine/functional.py\", line 672, in _run_internal_graph\n\n  File \"/home/codespace/.python/current/lib/python3.10/site-packages/keras/src/utils/traceback_utils.py\", line 65, in error_handler\n\n  File \"/home/codespace/.python/current/lib/python3.10/site-packages/keras/src/engine/base_layer.py\", line 1149, in __call__\n\n  File \"/home/codespace/.python/current/lib/python3.10/site-packages/keras/src/utils/traceback_utils.py\", line 96, in error_handler\n\n  File \"/home/codespace/.python/current/lib/python3.10/site-packages/keras/src/layers/core/dense.py\", line 255, in call\n\n  File \"/home/codespace/.python/current/lib/python3.10/site-packages/keras/src/activations.py\", line 306, in relu\n\n  File \"/home/codespace/.python/current/lib/python3.10/site-packages/keras/src/backend.py\", line 5397, in relu\n\nMatrix size-incompatible: In[0]: [32,41472], In[1]: [6272,128]\n\t [[{{node sequential/dense/Relu}}]] [Op:__inference_test_function_2507]",
     "output_type": "error",
     "traceback": [
      "\u001b[0;31m---------------------------------------------------------------------------\u001b[0m",
      "\u001b[0;31mInvalidArgumentError\u001b[0m                      Traceback (most recent call last)",
      "\u001b[1;32m/workspaces/machine-learning-practice/8-Deep-Learning/section37-convolutional-neural-networks.ipynb Cell 29\u001b[0m line \u001b[0;36m1\n\u001b[0;32m----> <a href='vscode-notebook-cell://codespaces%2Bbookish-space-rotary-phone-v9rqxppv7j7f595/workspaces/machine-learning-practice/8-Deep-Learning/section37-convolutional-neural-networks.ipynb#X45sdnNjb2RlLXJlbW90ZQ%3D%3D?line=0'>1</a>\u001b[0m cnn\u001b[39m.\u001b[39;49mfit(x\u001b[39m=\u001b[39;49m training_set, validation_data\u001b[39m=\u001b[39;49mtest_set, epochs\u001b[39m=\u001b[39;49m\u001b[39m25\u001b[39;49m)\n",
      "File \u001b[0;32m~/.python/current/lib/python3.10/site-packages/keras/src/utils/traceback_utils.py:70\u001b[0m, in \u001b[0;36mfilter_traceback.<locals>.error_handler\u001b[0;34m(*args, **kwargs)\u001b[0m\n\u001b[1;32m     67\u001b[0m     filtered_tb \u001b[39m=\u001b[39m _process_traceback_frames(e\u001b[39m.\u001b[39m__traceback__)\n\u001b[1;32m     68\u001b[0m     \u001b[39m# To get the full stack trace, call:\u001b[39;00m\n\u001b[1;32m     69\u001b[0m     \u001b[39m# `tf.debugging.disable_traceback_filtering()`\u001b[39;00m\n\u001b[0;32m---> 70\u001b[0m     \u001b[39mraise\u001b[39;00m e\u001b[39m.\u001b[39mwith_traceback(filtered_tb) \u001b[39mfrom\u001b[39;00m \u001b[39mNone\u001b[39;00m\n\u001b[1;32m     71\u001b[0m \u001b[39mfinally\u001b[39;00m:\n\u001b[1;32m     72\u001b[0m     \u001b[39mdel\u001b[39;00m filtered_tb\n",
      "File \u001b[0;32m~/.python/current/lib/python3.10/site-packages/tensorflow/python/eager/execute.py:60\u001b[0m, in \u001b[0;36mquick_execute\u001b[0;34m(op_name, num_outputs, inputs, attrs, ctx, name)\u001b[0m\n\u001b[1;32m     53\u001b[0m   \u001b[39m# Convert any objects of type core_types.Tensor to Tensor.\u001b[39;00m\n\u001b[1;32m     54\u001b[0m   inputs \u001b[39m=\u001b[39m [\n\u001b[1;32m     55\u001b[0m       tensor_conversion_registry\u001b[39m.\u001b[39mconvert(t)\n\u001b[1;32m     56\u001b[0m       \u001b[39mif\u001b[39;00m \u001b[39misinstance\u001b[39m(t, core_types\u001b[39m.\u001b[39mTensor)\n\u001b[1;32m     57\u001b[0m       \u001b[39melse\u001b[39;00m t\n\u001b[1;32m     58\u001b[0m       \u001b[39mfor\u001b[39;00m t \u001b[39min\u001b[39;00m inputs\n\u001b[1;32m     59\u001b[0m   ]\n\u001b[0;32m---> 60\u001b[0m   tensors \u001b[39m=\u001b[39m pywrap_tfe\u001b[39m.\u001b[39mTFE_Py_Execute(ctx\u001b[39m.\u001b[39m_handle, device_name, op_name,\n\u001b[1;32m     61\u001b[0m                                       inputs, attrs, num_outputs)\n\u001b[1;32m     62\u001b[0m \u001b[39mexcept\u001b[39;00m core\u001b[39m.\u001b[39m_NotOkStatusException \u001b[39mas\u001b[39;00m e:\n\u001b[1;32m     63\u001b[0m   \u001b[39mif\u001b[39;00m name \u001b[39mis\u001b[39;00m \u001b[39mnot\u001b[39;00m \u001b[39mNone\u001b[39;00m:\n",
      "\u001b[0;31mInvalidArgumentError\u001b[0m: Graph execution error:\n\nDetected at node sequential/dense/Relu defined at (most recent call last):\n  File \"/home/codespace/.python/current/lib/python3.10/runpy.py\", line 196, in _run_module_as_main\n\n  File \"/home/codespace/.python/current/lib/python3.10/runpy.py\", line 86, in _run_code\n\n  File \"/home/codespace/.local/lib/python3.10/site-packages/ipykernel_launcher.py\", line 17, in <module>\n\n  File \"/home/codespace/.local/lib/python3.10/site-packages/traitlets/config/application.py\", line 1043, in launch_instance\n\n  File \"/home/codespace/.local/lib/python3.10/site-packages/ipykernel/kernelapp.py\", line 736, in start\n\n  File \"/home/codespace/.local/lib/python3.10/site-packages/tornado/platform/asyncio.py\", line 195, in start\n\n  File \"/home/codespace/.python/current/lib/python3.10/asyncio/base_events.py\", line 603, in run_forever\n\n  File \"/home/codespace/.python/current/lib/python3.10/asyncio/base_events.py\", line 1899, in _run_once\n\n  File \"/home/codespace/.python/current/lib/python3.10/asyncio/events.py\", line 80, in _run\n\n  File \"/home/codespace/.local/lib/python3.10/site-packages/ipykernel/kernelbase.py\", line 516, in dispatch_queue\n\n  File \"/home/codespace/.local/lib/python3.10/site-packages/ipykernel/kernelbase.py\", line 505, in process_one\n\n  File \"/home/codespace/.local/lib/python3.10/site-packages/ipykernel/kernelbase.py\", line 412, in dispatch_shell\n\n  File \"/home/codespace/.local/lib/python3.10/site-packages/ipykernel/kernelbase.py\", line 740, in execute_request\n\n  File \"/home/codespace/.local/lib/python3.10/site-packages/ipykernel/ipkernel.py\", line 422, in do_execute\n\n  File \"/home/codespace/.local/lib/python3.10/site-packages/ipykernel/zmqshell.py\", line 546, in run_cell\n\n  File \"/home/codespace/.local/lib/python3.10/site-packages/IPython/core/interactiveshell.py\", line 3024, in run_cell\n\n  File \"/home/codespace/.local/lib/python3.10/site-packages/IPython/core/interactiveshell.py\", line 3079, in _run_cell\n\n  File \"/home/codespace/.local/lib/python3.10/site-packages/IPython/core/async_helpers.py\", line 129, in _pseudo_sync_runner\n\n  File \"/home/codespace/.local/lib/python3.10/site-packages/IPython/core/interactiveshell.py\", line 3284, in run_cell_async\n\n  File \"/home/codespace/.local/lib/python3.10/site-packages/IPython/core/interactiveshell.py\", line 3466, in run_ast_nodes\n\n  File \"/home/codespace/.local/lib/python3.10/site-packages/IPython/core/interactiveshell.py\", line 3526, in run_code\n\n  File \"/tmp/ipykernel_23371/3542586474.py\", line 1, in <module>\n\n  File \"/home/codespace/.python/current/lib/python3.10/site-packages/keras/src/utils/traceback_utils.py\", line 65, in error_handler\n\n  File \"/home/codespace/.python/current/lib/python3.10/site-packages/keras/src/engine/training.py\", line 1832, in fit\n\n  File \"/home/codespace/.python/current/lib/python3.10/site-packages/keras/src/utils/traceback_utils.py\", line 65, in error_handler\n\n  File \"/home/codespace/.python/current/lib/python3.10/site-packages/keras/src/engine/training.py\", line 2272, in evaluate\n\n  File \"/home/codespace/.python/current/lib/python3.10/site-packages/keras/src/engine/training.py\", line 4079, in run_step\n\n  File \"/home/codespace/.python/current/lib/python3.10/site-packages/keras/src/engine/training.py\", line 2042, in test_function\n\n  File \"/home/codespace/.python/current/lib/python3.10/site-packages/keras/src/engine/training.py\", line 2025, in step_function\n\n  File \"/home/codespace/.python/current/lib/python3.10/site-packages/keras/src/engine/training.py\", line 2013, in run_step\n\n  File \"/home/codespace/.python/current/lib/python3.10/site-packages/keras/src/engine/training.py\", line 1893, in test_step\n\n  File \"/home/codespace/.python/current/lib/python3.10/site-packages/keras/src/utils/traceback_utils.py\", line 65, in error_handler\n\n  File \"/home/codespace/.python/current/lib/python3.10/site-packages/keras/src/engine/training.py\", line 589, in __call__\n\n  File \"/home/codespace/.python/current/lib/python3.10/site-packages/keras/src/utils/traceback_utils.py\", line 65, in error_handler\n\n  File \"/home/codespace/.python/current/lib/python3.10/site-packages/keras/src/engine/base_layer.py\", line 1149, in __call__\n\n  File \"/home/codespace/.python/current/lib/python3.10/site-packages/keras/src/utils/traceback_utils.py\", line 96, in error_handler\n\n  File \"/home/codespace/.python/current/lib/python3.10/site-packages/keras/src/engine/sequential.py\", line 398, in call\n\n  File \"/home/codespace/.python/current/lib/python3.10/site-packages/keras/src/engine/functional.py\", line 515, in call\n\n  File \"/home/codespace/.python/current/lib/python3.10/site-packages/keras/src/engine/functional.py\", line 672, in _run_internal_graph\n\n  File \"/home/codespace/.python/current/lib/python3.10/site-packages/keras/src/utils/traceback_utils.py\", line 65, in error_handler\n\n  File \"/home/codespace/.python/current/lib/python3.10/site-packages/keras/src/engine/base_layer.py\", line 1149, in __call__\n\n  File \"/home/codespace/.python/current/lib/python3.10/site-packages/keras/src/utils/traceback_utils.py\", line 96, in error_handler\n\n  File \"/home/codespace/.python/current/lib/python3.10/site-packages/keras/src/layers/core/dense.py\", line 255, in call\n\n  File \"/home/codespace/.python/current/lib/python3.10/site-packages/keras/src/activations.py\", line 306, in relu\n\n  File \"/home/codespace/.python/current/lib/python3.10/site-packages/keras/src/backend.py\", line 5397, in relu\n\nMatrix size-incompatible: In[0]: [32,41472], In[1]: [6272,128]\n\t [[{{node sequential/dense/Relu}}]] [Op:__inference_test_function_2507]"
     ]
    }
   ],
   "source": [
    "cnn.fit(x= training_set, validation_data=test_set, epochs=25)\n",
    "# too much memory for the lowest level Github codespace"
   ]
  },
  {
   "cell_type": "markdown",
   "metadata": {},
   "source": [
    "## Part 4 - Making a single prediction"
   ]
  },
  {
   "cell_type": "code",
   "execution_count": null,
   "metadata": {},
   "outputs": [],
   "source": [
    "import numpy as np\n",
    "# oops, needed numpy after all!\n",
    "from keras.preprocessing import image\n",
    "test_image = image.load_img(\"dataset/single_prediction/cat_or_dog_1.jpg\", target_size=(64, 64))\n",
    "# test images need to be the same size as the target size\n",
    "test_image = image.img_to_array(test_image)\n",
    "# converts the image into an array of pixel data\n",
    "test_image = np.expand_dims(test_image, axis=0)\n",
    "# Needs to be in a batch, like the training images\n",
    "result = cnn.predict(test_image)\n",
    "training_set.class_indices\n",
    "if result[0][0]  == 0: # the image is now inside of an array two dimensions deep, but is index 0 in both dimensions\n",
    "    prediction = \"cat\"\n",
    "else:\n",
    "    prediction = \"dog\"\n"
   ]
  },
  {
   "cell_type": "code",
   "execution_count": null,
   "metadata": {},
   "outputs": [],
   "source": [
    "print(prediction)"
   ]
  }
 ],
 "metadata": {
  "kernelspec": {
   "display_name": "Python 3",
   "language": "python",
   "name": "python3"
  },
  "language_info": {
   "codemirror_mode": {
    "name": "ipython",
    "version": 3
   },
   "file_extension": ".py",
   "mimetype": "text/x-python",
   "name": "python",
   "nbconvert_exporter": "python",
   "pygments_lexer": "ipython3",
   "version": "3.10.8"
  }
 },
 "nbformat": 4,
 "nbformat_minor": 2
}
