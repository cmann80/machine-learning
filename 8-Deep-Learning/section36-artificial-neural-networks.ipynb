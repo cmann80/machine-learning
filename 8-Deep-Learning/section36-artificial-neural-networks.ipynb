{
 "cells": [
  {
   "cell_type": "markdown",
   "metadata": {},
   "source": [
    "# Artificial Neural Networks"
   ]
  },
  {
   "cell_type": "markdown",
   "metadata": {},
   "source": [
    "### Importing the libraries"
   ]
  },
  {
   "cell_type": "code",
   "execution_count": 1,
   "metadata": {},
   "outputs": [
    {
     "name": "stderr",
     "output_type": "stream",
     "text": [
      "2023-10-15 17:56:23.828410: E tensorflow/compiler/xla/stream_executor/cuda/cuda_dnn.cc:9342] Unable to register cuDNN factory: Attempting to register factory for plugin cuDNN when one has already been registered\n",
      "2023-10-15 17:56:23.828472: E tensorflow/compiler/xla/stream_executor/cuda/cuda_fft.cc:609] Unable to register cuFFT factory: Attempting to register factory for plugin cuFFT when one has already been registered\n",
      "2023-10-15 17:56:23.828498: E tensorflow/compiler/xla/stream_executor/cuda/cuda_blas.cc:1518] Unable to register cuBLAS factory: Attempting to register factory for plugin cuBLAS when one has already been registered\n",
      "2023-10-15 17:56:23.835419: I tensorflow/core/platform/cpu_feature_guard.cc:182] This TensorFlow binary is optimized to use available CPU instructions in performance-critical operations.\n",
      "To enable the following instructions: AVX2 FMA, in other operations, rebuild TensorFlow with the appropriate compiler flags.\n",
      "2023-10-15 17:56:24.681960: W tensorflow/compiler/tf2tensorrt/utils/py_utils.cc:38] TF-TRT Warning: Could not find TensorRT\n"
     ]
    }
   ],
   "source": [
    "import numpy as np\n",
    "# don't need matplotlib\n",
    "import pandas as pd\n",
    "import tensorflow as tf"
   ]
  },
  {
   "cell_type": "code",
   "execution_count": 2,
   "metadata": {},
   "outputs": [
    {
     "data": {
      "text/plain": [
       "OrderedDict([('cpu_compiler', '/usr/lib/llvm-16/bin/clang'),\n",
       "             ('cuda_compute_capabilities',\n",
       "              ['sm_35', 'sm_50', 'sm_60', 'sm_70', 'sm_75', 'compute_80']),\n",
       "             ('cuda_version', '11.8'),\n",
       "             ('cudnn_version', '8'),\n",
       "             ('is_cuda_build', True),\n",
       "             ('is_rocm_build', False),\n",
       "             ('is_tensorrt_build', True)])"
      ]
     },
     "execution_count": 2,
     "metadata": {},
     "output_type": "execute_result"
    }
   ],
   "source": [
    "tf.sysconfig.get_build_info() "
   ]
  },
  {
   "cell_type": "code",
   "execution_count": 3,
   "metadata": {},
   "outputs": [
    {
     "data": {
      "text/plain": [
       "'2.14.0'"
      ]
     },
     "execution_count": 3,
     "metadata": {},
     "output_type": "execute_result"
    }
   ],
   "source": [
    "tf.__version__"
   ]
  },
  {
   "cell_type": "markdown",
   "metadata": {},
   "source": [
    "## Part 1 - Data Preprocessing"
   ]
  },
  {
   "cell_type": "markdown",
   "metadata": {},
   "source": [
    "### Importing the dataset"
   ]
  },
  {
   "cell_type": "code",
   "execution_count": 4,
   "metadata": {},
   "outputs": [],
   "source": [
    "dataset = pd.read_csv(\"Churn_Modelling.csv\")\n",
    "\n",
    "# independent variables (excluding the first three columns: entry number, customer ID, customer name)\n",
    "# customer name is truly irrelevant to the model?\n",
    "X = dataset.iloc[:, 3:-1].values\n",
    "# dependent variable (variable to be predicted; rightmost column)\n",
    "y = dataset.iloc[:, -1].values"
   ]
  },
  {
   "cell_type": "code",
   "execution_count": 5,
   "metadata": {},
   "outputs": [
    {
     "name": "stdout",
     "output_type": "stream",
     "text": [
      "[[619 'France' 'Female' ... 1 1 101348.88]\n",
      " [608 'Spain' 'Female' ... 0 1 112542.58]\n",
      " [502 'France' 'Female' ... 1 0 113931.57]\n",
      " ...\n",
      " [709 'France' 'Female' ... 0 1 42085.58]\n",
      " [772 'Germany' 'Male' ... 1 0 92888.52]\n",
      " [792 'France' 'Female' ... 1 0 38190.78]]\n"
     ]
    }
   ],
   "source": [
    "print(X)"
   ]
  },
  {
   "cell_type": "markdown",
   "metadata": {},
   "source": [
    "### Encoding Categorical Data"
   ]
  },
  {
   "cell_type": "markdown",
   "metadata": {},
   "source": [
    "#### Label encoding the \"Gender\" column"
   ]
  },
  {
   "cell_type": "code",
   "execution_count": 6,
   "metadata": {},
   "outputs": [],
   "source": [
    "from sklearn.preprocessing import LabelEncoder\n",
    "le = LabelEncoder()\n",
    "X[:, 2] = le.fit_transform(X[:, 2])\n",
    "# encoding just the gender column"
   ]
  },
  {
   "cell_type": "code",
   "execution_count": 7,
   "metadata": {},
   "outputs": [
    {
     "name": "stdout",
     "output_type": "stream",
     "text": [
      "[[619 'France' 0 ... 1 1 101348.88]\n",
      " [608 'Spain' 0 ... 0 1 112542.58]\n",
      " [502 'France' 0 ... 1 0 113931.57]\n",
      " ...\n",
      " [709 'France' 0 ... 0 1 42085.58]\n",
      " [772 'Germany' 1 ... 1 0 92888.52]\n",
      " [792 'France' 0 ... 1 0 38190.78]]\n"
     ]
    }
   ],
   "source": [
    "print(X)"
   ]
  },
  {
   "cell_type": "markdown",
   "metadata": {},
   "source": [
    "#### One Hot Encoding the \"Geography\" column"
   ]
  },
  {
   "cell_type": "code",
   "execution_count": 8,
   "metadata": {},
   "outputs": [],
   "source": [
    "from sklearn.compose import ColumnTransformer\n",
    "from sklearn.preprocessing import OneHotEncoder\n",
    "ct = ColumnTransformer(transformers=[(\"encoder\", OneHotEncoder(), [1])], remainder=\"passthrough\")\n",
    "X = np.array(ct.fit_transform(X))"
   ]
  },
  {
   "cell_type": "code",
   "execution_count": 9,
   "metadata": {},
   "outputs": [
    {
     "name": "stdout",
     "output_type": "stream",
     "text": [
      "[[1.0 0.0 0.0 ... 1 1 101348.88]\n",
      " [0.0 0.0 1.0 ... 0 1 112542.58]\n",
      " [1.0 0.0 0.0 ... 1 0 113931.57]\n",
      " ...\n",
      " [1.0 0.0 0.0 ... 0 1 42085.58]\n",
      " [0.0 1.0 0.0 ... 1 0 92888.52]\n",
      " [1.0 0.0 0.0 ... 1 0 38190.78]]\n"
     ]
    }
   ],
   "source": [
    "print(X)"
   ]
  },
  {
   "cell_type": "markdown",
   "metadata": {},
   "source": [
    "### Splitting the data into the training set and test set"
   ]
  },
  {
   "cell_type": "code",
   "execution_count": 10,
   "metadata": {},
   "outputs": [],
   "source": [
    "from sklearn.model_selection import train_test_split\n",
    "X_train, X_test, y_train, y_test = train_test_split(X, y, test_size=0.2, random_state=1)"
   ]
  },
  {
   "cell_type": "markdown",
   "metadata": {},
   "source": [
    "### Feature Scaling"
   ]
  },
  {
   "cell_type": "code",
   "execution_count": 11,
   "metadata": {},
   "outputs": [],
   "source": [
    "# Feature scaling is absolutely compulsory for all data in deep learning, even binary variables\n",
    "from sklearn.preprocessing import StandardScaler\n",
    "sc = StandardScaler()\n",
    "X_train= sc.fit_transform(X_train) \n",
    "X_test = sc.transform(X_test)"
   ]
  },
  {
   "cell_type": "markdown",
   "metadata": {},
   "source": [
    "## Part 2: Building the ANN"
   ]
  },
  {
   "cell_type": "markdown",
   "metadata": {},
   "source": [
    "### Initializing the ANN"
   ]
  },
  {
   "cell_type": "code",
   "execution_count": 12,
   "metadata": {},
   "outputs": [
    {
     "name": "stderr",
     "output_type": "stream",
     "text": [
      "2023-10-15 17:57:27.037861: I tensorflow/compiler/xla/stream_executor/cuda/cuda_gpu_executor.cc:880] could not open file to read NUMA node: /sys/bus/pci/devices/0000:01:00.0/numa_node\n",
      "Your kernel may have been built without NUMA support.\n",
      "2023-10-15 17:57:27.110972: I tensorflow/compiler/xla/stream_executor/cuda/cuda_gpu_executor.cc:880] could not open file to read NUMA node: /sys/bus/pci/devices/0000:01:00.0/numa_node\n",
      "Your kernel may have been built without NUMA support.\n",
      "2023-10-15 17:57:27.111032: I tensorflow/compiler/xla/stream_executor/cuda/cuda_gpu_executor.cc:880] could not open file to read NUMA node: /sys/bus/pci/devices/0000:01:00.0/numa_node\n",
      "Your kernel may have been built without NUMA support.\n",
      "2023-10-15 17:57:27.112669: I tensorflow/compiler/xla/stream_executor/cuda/cuda_gpu_executor.cc:880] could not open file to read NUMA node: /sys/bus/pci/devices/0000:01:00.0/numa_node\n",
      "Your kernel may have been built without NUMA support.\n",
      "2023-10-15 17:57:27.112730: I tensorflow/compiler/xla/stream_executor/cuda/cuda_gpu_executor.cc:880] could not open file to read NUMA node: /sys/bus/pci/devices/0000:01:00.0/numa_node\n",
      "Your kernel may have been built without NUMA support.\n",
      "2023-10-15 17:57:27.112769: I tensorflow/compiler/xla/stream_executor/cuda/cuda_gpu_executor.cc:880] could not open file to read NUMA node: /sys/bus/pci/devices/0000:01:00.0/numa_node\n",
      "Your kernel may have been built without NUMA support.\n",
      "2023-10-15 17:57:28.619914: I tensorflow/compiler/xla/stream_executor/cuda/cuda_gpu_executor.cc:880] could not open file to read NUMA node: /sys/bus/pci/devices/0000:01:00.0/numa_node\n",
      "Your kernel may have been built without NUMA support.\n",
      "2023-10-15 17:57:28.620083: I tensorflow/compiler/xla/stream_executor/cuda/cuda_gpu_executor.cc:880] could not open file to read NUMA node: /sys/bus/pci/devices/0000:01:00.0/numa_node\n",
      "Your kernel may have been built without NUMA support.\n",
      "2023-10-15 17:57:28.620099: I tensorflow/core/common_runtime/gpu/gpu_device.cc:1977] Could not identify NUMA node of platform GPU id 0, defaulting to 0.  Your kernel may not have been built with NUMA support.\n",
      "2023-10-15 17:57:28.620195: I tensorflow/compiler/xla/stream_executor/cuda/cuda_gpu_executor.cc:880] could not open file to read NUMA node: /sys/bus/pci/devices/0000:01:00.0/numa_node\n",
      "Your kernel may have been built without NUMA support.\n",
      "2023-10-15 17:57:28.620218: I tensorflow/core/common_runtime/gpu/gpu_device.cc:1886] Created device /job:localhost/replica:0/task:0/device:GPU:0 with 4595 MB memory:  -> device: 0, name: NVIDIA GeForce GTX 980 Ti, pci bus id: 0000:01:00.0, compute capability: 5.2\n"
     ]
    }
   ],
   "source": [
    "# Keras used to be its own library but was integrated into TensorFlow as of 2.0\n",
    "ann = tf.keras.models.Sequential()"
   ]
  },
  {
   "cell_type": "markdown",
   "metadata": {},
   "source": [
    "### Adding the input layer and the first hidden layer"
   ]
  },
  {
   "cell_type": "code",
   "execution_count": 13,
   "metadata": {},
   "outputs": [],
   "source": [
    "# there is no perfect answer for the best number of neurons in the hidden layer. It requires experimentation.\n",
    "ann.add(tf.keras.layers.Dense(units=6, activation=\"relu\")) # relu = rectifier"
   ]
  },
  {
   "cell_type": "markdown",
   "metadata": {},
   "source": [
    "### Adding the second hidden layer"
   ]
  },
  {
   "cell_type": "code",
   "execution_count": 14,
   "metadata": {},
   "outputs": [],
   "source": [
    "ann.add(tf.keras.layers.Dense(units=6, activation=\"relu\"))"
   ]
  },
  {
   "cell_type": "markdown",
   "metadata": {},
   "source": [
    "### Adding the output layer"
   ]
  },
  {
   "cell_type": "code",
   "execution_count": 15,
   "metadata": {},
   "outputs": [],
   "source": [
    "ann.add(tf.keras.layers.Dense(units=1, activation=\"sigmoid\")) # sigmoid returns a probability of being either 0 or 1\n",
    "# The outcome is binary, so one neuron is enough. For classification tasks you would need more\n"
   ]
  },
  {
   "cell_type": "markdown",
   "metadata": {},
   "source": [
    "## Part 3 - Training the ANN"
   ]
  },
  {
   "cell_type": "markdown",
   "metadata": {},
   "source": [
    "### Compiling the ANN"
   ]
  },
  {
   "cell_type": "code",
   "execution_count": 16,
   "metadata": {},
   "outputs": [],
   "source": [
    "ann.compile(optimizer=\"adam\", loss=\"binary_crossentropy\", metrics=[\"accuracy\"])\n",
    "# adam = a sochastic gradient descent optimizer\n",
    "# binary cross entropy is always used for binary dependent variables\n",
    "# you can enter many metrics, but we are ony using one"
   ]
  },
  {
   "cell_type": "markdown",
   "metadata": {},
   "source": [
    "### Training the ANN on the Training set"
   ]
  },
  {
   "cell_type": "code",
   "execution_count": 17,
   "metadata": {},
   "outputs": [
    {
     "name": "stdout",
     "output_type": "stream",
     "text": [
      "Epoch 1/100\n"
     ]
    },
    {
     "name": "stderr",
     "output_type": "stream",
     "text": [
      "2023-10-15 17:57:56.082051: I tensorflow/compiler/xla/service/service.cc:168] XLA service 0x7f282f8eb4e0 initialized for platform CUDA (this does not guarantee that XLA will be used). Devices:\n",
      "2023-10-15 17:57:56.082095: I tensorflow/compiler/xla/service/service.cc:176]   StreamExecutor device (0): NVIDIA GeForce GTX 980 Ti, Compute Capability 5.2\n",
      "2023-10-15 17:57:56.096984: I tensorflow/compiler/mlir/tensorflow/utils/dump_mlir_util.cc:269] disabling MLIR crash reproducer, set env var `MLIR_CRASH_REPRODUCER_DIRECTORY` to enable.\n",
      "2023-10-15 17:57:58.377156: I tensorflow/compiler/xla/stream_executor/cuda/cuda_dnn.cc:442] Loaded cuDNN version 8905\n",
      "2023-10-15 17:57:58.477412: I ./tensorflow/compiler/jit/device_compiler.h:186] Compiled cluster using XLA!  This line is logged at most once for the lifetime of the process.\n"
     ]
    },
    {
     "name": "stdout",
     "output_type": "stream",
     "text": [
      "250/250 [==============================] - 7s 6ms/step - loss: 0.5518 - accuracy: 0.7856\n",
      "Epoch 2/100\n",
      "250/250 [==============================] - 2s 6ms/step - loss: 0.4661 - accuracy: 0.7994\n",
      "Epoch 3/100\n",
      "250/250 [==============================] - 2s 6ms/step - loss: 0.4409 - accuracy: 0.8121\n",
      "Epoch 4/100\n",
      "250/250 [==============================] - 2s 6ms/step - loss: 0.4262 - accuracy: 0.8211\n",
      "Epoch 5/100\n",
      "250/250 [==============================] - 1s 6ms/step - loss: 0.4158 - accuracy: 0.8291\n",
      "Epoch 6/100\n",
      "250/250 [==============================] - 1s 6ms/step - loss: 0.4065 - accuracy: 0.8340\n",
      "Epoch 7/100\n",
      "250/250 [==============================] - 1s 6ms/step - loss: 0.3956 - accuracy: 0.8391\n",
      "Epoch 8/100\n",
      "250/250 [==============================] - 1s 6ms/step - loss: 0.3824 - accuracy: 0.8472\n",
      "Epoch 9/100\n",
      "250/250 [==============================] - 1s 6ms/step - loss: 0.3696 - accuracy: 0.8529\n",
      "Epoch 10/100\n",
      "250/250 [==============================] - 2s 6ms/step - loss: 0.3609 - accuracy: 0.8545\n",
      "Epoch 11/100\n",
      "250/250 [==============================] - 1s 6ms/step - loss: 0.3563 - accuracy: 0.8587\n",
      "Epoch 12/100\n",
      "250/250 [==============================] - 1s 6ms/step - loss: 0.3527 - accuracy: 0.8581\n",
      "Epoch 13/100\n",
      "250/250 [==============================] - 1s 6ms/step - loss: 0.3502 - accuracy: 0.8583\n",
      "Epoch 14/100\n",
      "250/250 [==============================] - 1s 6ms/step - loss: 0.3485 - accuracy: 0.8590\n",
      "Epoch 15/100\n",
      "250/250 [==============================] - 1s 6ms/step - loss: 0.3472 - accuracy: 0.8577\n",
      "Epoch 16/100\n",
      "250/250 [==============================] - 1s 6ms/step - loss: 0.3455 - accuracy: 0.8600\n",
      "Epoch 17/100\n",
      "250/250 [==============================] - 2s 6ms/step - loss: 0.3443 - accuracy: 0.8612\n",
      "Epoch 18/100\n",
      "250/250 [==============================] - 2s 6ms/step - loss: 0.3435 - accuracy: 0.8602\n",
      "Epoch 19/100\n",
      "250/250 [==============================] - 1s 6ms/step - loss: 0.3427 - accuracy: 0.8618\n",
      "Epoch 20/100\n",
      "250/250 [==============================] - 1s 6ms/step - loss: 0.3421 - accuracy: 0.8609\n",
      "Epoch 21/100\n",
      "250/250 [==============================] - 1s 6ms/step - loss: 0.3413 - accuracy: 0.8612\n",
      "Epoch 22/100\n",
      "250/250 [==============================] - 1s 6ms/step - loss: 0.3409 - accuracy: 0.8611\n",
      "Epoch 23/100\n",
      "250/250 [==============================] - 2s 6ms/step - loss: 0.3406 - accuracy: 0.8608\n",
      "Epoch 24/100\n",
      "250/250 [==============================] - 2s 6ms/step - loss: 0.3400 - accuracy: 0.8611\n",
      "Epoch 25/100\n",
      "250/250 [==============================] - 1s 6ms/step - loss: 0.3396 - accuracy: 0.8612\n",
      "Epoch 26/100\n",
      "250/250 [==============================] - 1s 5ms/step - loss: 0.3388 - accuracy: 0.8618\n",
      "Epoch 27/100\n",
      "250/250 [==============================] - 2s 7ms/step - loss: 0.3393 - accuracy: 0.8630\n",
      "Epoch 28/100\n",
      "250/250 [==============================] - 1s 5ms/step - loss: 0.3388 - accuracy: 0.8604\n",
      "Epoch 29/100\n",
      "250/250 [==============================] - 2s 6ms/step - loss: 0.3385 - accuracy: 0.8627\n",
      "Epoch 30/100\n",
      "250/250 [==============================] - 2s 6ms/step - loss: 0.3386 - accuracy: 0.8608\n",
      "Epoch 31/100\n",
      "250/250 [==============================] - 1s 6ms/step - loss: 0.3381 - accuracy: 0.8616\n",
      "Epoch 32/100\n",
      "250/250 [==============================] - 1s 6ms/step - loss: 0.3378 - accuracy: 0.8618\n",
      "Epoch 33/100\n",
      "250/250 [==============================] - 1s 6ms/step - loss: 0.3374 - accuracy: 0.8608\n",
      "Epoch 34/100\n",
      "250/250 [==============================] - 1s 6ms/step - loss: 0.3372 - accuracy: 0.8633\n",
      "Epoch 35/100\n",
      "250/250 [==============================] - 1s 6ms/step - loss: 0.3371 - accuracy: 0.8636\n",
      "Epoch 36/100\n",
      "250/250 [==============================] - 1s 6ms/step - loss: 0.3367 - accuracy: 0.8629\n",
      "Epoch 37/100\n",
      "250/250 [==============================] - 1s 6ms/step - loss: 0.3366 - accuracy: 0.8621\n",
      "Epoch 38/100\n",
      "250/250 [==============================] - 1s 6ms/step - loss: 0.3365 - accuracy: 0.8635\n",
      "Epoch 39/100\n",
      "250/250 [==============================] - 1s 6ms/step - loss: 0.3363 - accuracy: 0.8625\n",
      "Epoch 40/100\n",
      "250/250 [==============================] - 1s 6ms/step - loss: 0.3365 - accuracy: 0.8627\n",
      "Epoch 41/100\n",
      "250/250 [==============================] - 1s 6ms/step - loss: 0.3361 - accuracy: 0.8634\n",
      "Epoch 42/100\n",
      "250/250 [==============================] - 2s 6ms/step - loss: 0.3362 - accuracy: 0.8624\n",
      "Epoch 43/100\n",
      "250/250 [==============================] - 2s 6ms/step - loss: 0.3357 - accuracy: 0.8610\n",
      "Epoch 44/100\n",
      "250/250 [==============================] - 1s 6ms/step - loss: 0.3357 - accuracy: 0.8619\n",
      "Epoch 45/100\n",
      "250/250 [==============================] - 1s 6ms/step - loss: 0.3356 - accuracy: 0.8614\n",
      "Epoch 46/100\n",
      "250/250 [==============================] - 1s 6ms/step - loss: 0.3354 - accuracy: 0.8626\n",
      "Epoch 47/100\n",
      "250/250 [==============================] - 1s 6ms/step - loss: 0.3349 - accuracy: 0.8630\n",
      "Epoch 48/100\n",
      "250/250 [==============================] - 1s 6ms/step - loss: 0.3352 - accuracy: 0.8630\n",
      "Epoch 49/100\n",
      "250/250 [==============================] - 1s 6ms/step - loss: 0.3348 - accuracy: 0.8614\n",
      "Epoch 50/100\n",
      "250/250 [==============================] - 2s 6ms/step - loss: 0.3348 - accuracy: 0.8627\n",
      "Epoch 51/100\n",
      "250/250 [==============================] - 1s 6ms/step - loss: 0.3346 - accuracy: 0.8606\n",
      "Epoch 52/100\n",
      "250/250 [==============================] - 1s 6ms/step - loss: 0.3345 - accuracy: 0.8615\n",
      "Epoch 53/100\n",
      "250/250 [==============================] - 1s 6ms/step - loss: 0.3344 - accuracy: 0.8627\n",
      "Epoch 54/100\n",
      "250/250 [==============================] - 1s 6ms/step - loss: 0.3343 - accuracy: 0.8622\n",
      "Epoch 55/100\n",
      "250/250 [==============================] - 1s 6ms/step - loss: 0.3345 - accuracy: 0.8625\n",
      "Epoch 56/100\n",
      "250/250 [==============================] - 1s 6ms/step - loss: 0.3340 - accuracy: 0.8615\n",
      "Epoch 57/100\n",
      "250/250 [==============================] - 1s 6ms/step - loss: 0.3340 - accuracy: 0.8620\n",
      "Epoch 58/100\n",
      "250/250 [==============================] - 1s 6ms/step - loss: 0.3339 - accuracy: 0.8618\n",
      "Epoch 59/100\n",
      "250/250 [==============================] - 1s 6ms/step - loss: 0.3334 - accuracy: 0.8621\n",
      "Epoch 60/100\n",
      "250/250 [==============================] - 2s 6ms/step - loss: 0.3338 - accuracy: 0.8611\n",
      "Epoch 61/100\n",
      "250/250 [==============================] - 1s 6ms/step - loss: 0.3335 - accuracy: 0.8620\n",
      "Epoch 62/100\n",
      "250/250 [==============================] - 1s 6ms/step - loss: 0.3338 - accuracy: 0.8622\n",
      "Epoch 63/100\n",
      "250/250 [==============================] - 1s 6ms/step - loss: 0.3336 - accuracy: 0.8637\n",
      "Epoch 64/100\n",
      "250/250 [==============================] - 1s 6ms/step - loss: 0.3331 - accuracy: 0.8622\n",
      "Epoch 65/100\n",
      "250/250 [==============================] - 1s 6ms/step - loss: 0.3333 - accuracy: 0.8626\n",
      "Epoch 66/100\n",
      "250/250 [==============================] - 2s 6ms/step - loss: 0.3337 - accuracy: 0.8610\n",
      "Epoch 67/100\n",
      "250/250 [==============================] - 1s 6ms/step - loss: 0.3335 - accuracy: 0.8626\n",
      "Epoch 68/100\n",
      "250/250 [==============================] - 1s 6ms/step - loss: 0.3331 - accuracy: 0.8622\n",
      "Epoch 69/100\n",
      "250/250 [==============================] - 1s 6ms/step - loss: 0.3331 - accuracy: 0.8645\n",
      "Epoch 70/100\n",
      "250/250 [==============================] - 1s 6ms/step - loss: 0.3328 - accuracy: 0.8625\n",
      "Epoch 71/100\n",
      "250/250 [==============================] - 1s 6ms/step - loss: 0.3334 - accuracy: 0.8631\n",
      "Epoch 72/100\n",
      "250/250 [==============================] - 1s 6ms/step - loss: 0.3331 - accuracy: 0.8630\n",
      "Epoch 73/100\n",
      "250/250 [==============================] - 1s 6ms/step - loss: 0.3330 - accuracy: 0.8626\n",
      "Epoch 74/100\n",
      "250/250 [==============================] - 1s 6ms/step - loss: 0.3331 - accuracy: 0.8636\n",
      "Epoch 75/100\n",
      "250/250 [==============================] - 1s 6ms/step - loss: 0.3328 - accuracy: 0.8631\n",
      "Epoch 76/100\n",
      "250/250 [==============================] - 1s 6ms/step - loss: 0.3331 - accuracy: 0.8626\n",
      "Epoch 77/100\n",
      "250/250 [==============================] - 1s 6ms/step - loss: 0.3329 - accuracy: 0.8622\n",
      "Epoch 78/100\n",
      "250/250 [==============================] - 1s 6ms/step - loss: 0.3328 - accuracy: 0.8640\n",
      "Epoch 79/100\n",
      "250/250 [==============================] - 1s 6ms/step - loss: 0.3328 - accuracy: 0.8637\n",
      "Epoch 80/100\n",
      "250/250 [==============================] - 1s 6ms/step - loss: 0.3328 - accuracy: 0.8634\n",
      "Epoch 81/100\n",
      "250/250 [==============================] - 2s 6ms/step - loss: 0.3328 - accuracy: 0.8637\n",
      "Epoch 82/100\n",
      "250/250 [==============================] - 1s 6ms/step - loss: 0.3327 - accuracy: 0.8633\n",
      "Epoch 83/100\n",
      "250/250 [==============================] - 2s 9ms/step - loss: 0.3327 - accuracy: 0.8639\n",
      "Epoch 84/100\n",
      "250/250 [==============================] - 2s 7ms/step - loss: 0.3328 - accuracy: 0.8622\n",
      "Epoch 85/100\n",
      "250/250 [==============================] - 2s 7ms/step - loss: 0.3323 - accuracy: 0.8631\n",
      "Epoch 86/100\n",
      "250/250 [==============================] - 1s 6ms/step - loss: 0.3327 - accuracy: 0.8626\n",
      "Epoch 87/100\n",
      "250/250 [==============================] - 2s 6ms/step - loss: 0.3324 - accuracy: 0.8616\n",
      "Epoch 88/100\n",
      "250/250 [==============================] - 1s 6ms/step - loss: 0.3325 - accuracy: 0.8616\n",
      "Epoch 89/100\n",
      "250/250 [==============================] - 2s 6ms/step - loss: 0.3328 - accuracy: 0.8630\n",
      "Epoch 90/100\n",
      "250/250 [==============================] - 2s 7ms/step - loss: 0.3326 - accuracy: 0.8635\n",
      "Epoch 91/100\n",
      "250/250 [==============================] - 2s 8ms/step - loss: 0.3319 - accuracy: 0.8637\n",
      "Epoch 92/100\n",
      "250/250 [==============================] - 2s 7ms/step - loss: 0.3323 - accuracy: 0.8616\n",
      "Epoch 93/100\n",
      "250/250 [==============================] - 2s 6ms/step - loss: 0.3321 - accuracy: 0.8633\n",
      "Epoch 94/100\n",
      "250/250 [==============================] - 2s 7ms/step - loss: 0.3328 - accuracy: 0.8631\n",
      "Epoch 95/100\n",
      "250/250 [==============================] - 2s 8ms/step - loss: 0.3321 - accuracy: 0.8644\n",
      "Epoch 96/100\n",
      "250/250 [==============================] - 2s 9ms/step - loss: 0.3323 - accuracy: 0.8630\n",
      "Epoch 97/100\n",
      "250/250 [==============================] - 2s 6ms/step - loss: 0.3326 - accuracy: 0.8636\n",
      "Epoch 98/100\n",
      "250/250 [==============================] - 2s 6ms/step - loss: 0.3322 - accuracy: 0.8637\n",
      "Epoch 99/100\n",
      "250/250 [==============================] - 2s 8ms/step - loss: 0.3322 - accuracy: 0.8625\n",
      "Epoch 100/100\n",
      "250/250 [==============================] - 1s 5ms/step - loss: 0.3322 - accuracy: 0.8624\n"
     ]
    },
    {
     "data": {
      "text/plain": [
       "<keras.src.callbacks.History at 0x7f2934433b20>"
      ]
     },
     "execution_count": 17,
     "metadata": {},
     "output_type": "execute_result"
    }
   ],
   "source": [
    "ann.fit(X_train, y_train, batch_size= 32, epochs=100) # 32 is the default batch size value"
   ]
  },
  {
   "cell_type": "markdown",
   "metadata": {},
   "source": [
    "## Part 4 - Making the predictions and evaluating the model"
   ]
  },
  {
   "cell_type": "markdown",
   "metadata": {},
   "source": [
    "### Predicting the result of a single observation"
   ]
  },
  {
   "cell_type": "markdown",
   "metadata": {},
   "source": [
    "Homework: Use the ANN model to predict if the customer with the following information will leave the bank:\n",
    "\n",
    "Geography: France  \n",
    "Credit score: 600  \n",
    "Gender: Male  \n",
    "Age: 40  \n",
    "Tenure: 3 years  \n",
    "Balance: 60000  \n",
    "Number of products: 2  \n",
    "Does this customer have a credit card? Yes  \n",
    "Is this customer an active member: yes  \n",
    "Estimated Salary: $50000  \n",
    "So, should we say goodbye to the customer?"
   ]
  },
  {
   "cell_type": "code",
   "execution_count": 18,
   "metadata": {},
   "outputs": [
    {
     "name": "stdout",
     "output_type": "stream",
     "text": [
      "1/1 [==============================] - 0s 98ms/step\n",
      "[[False]]\n"
     ]
    }
   ],
   "source": [
    "print(ann.predict(sc.transform([[1, 0, 0, 600, 1, 40, 3, 60000, 2, 1, 1, 50000]])) > 0.5) # converts output above 0.5 to true\n",
    "# Must have the right number of elements!"
   ]
  },
  {
   "cell_type": "markdown",
   "metadata": {},
   "source": [
    "### Predicting the Test set results"
   ]
  },
  {
   "cell_type": "code",
   "execution_count": 19,
   "metadata": {},
   "outputs": [
    {
     "name": "stdout",
     "output_type": "stream",
     "text": [
      "63/63 [==============================] - 0s 3ms/step\n",
      "[[0 0]\n",
      " [0 0]\n",
      " [0 0]\n",
      " ...\n",
      " [0 0]\n",
      " [0 0]\n",
      " [1 0]]\n"
     ]
    }
   ],
   "source": [
    "y_pred = ann.predict(X_test)\n",
    "y_pred = (y_pred > 0.5)\n",
    "print(np.concatenate((y_pred.reshape(len(y_pred), 1), y_test.reshape(len(y_test), 1 )), 1)) "
   ]
  },
  {
   "cell_type": "markdown",
   "metadata": {},
   "source": [
    "### Making the Confusion Matrix"
   ]
  },
  {
   "cell_type": "code",
   "execution_count": 20,
   "metadata": {},
   "outputs": [
    {
     "name": "stdout",
     "output_type": "stream",
     "text": [
      "[[1528   57]\n",
      " [ 207  208]]\n"
     ]
    },
    {
     "data": {
      "text/plain": [
       "0.868"
      ]
     },
     "execution_count": 20,
     "metadata": {},
     "output_type": "execute_result"
    }
   ],
   "source": [
    "from sklearn.metrics import confusion_matrix\n",
    "cm = confusion_matrix(y_test, y_pred)\n",
    "print(cm)\n",
    "from sklearn.metrics import accuracy_score\n",
    "\n",
    "accuracy_score(y_test, y_pred)"
   ]
  }
 ],
 "metadata": {
  "kernelspec": {
   "display_name": "Python 3",
   "language": "python",
   "name": "python3"
  },
  "language_info": {
   "codemirror_mode": {
    "name": "ipython",
    "version": 3
   },
   "file_extension": ".py",
   "mimetype": "text/x-python",
   "name": "python",
   "nbconvert_exporter": "python",
   "pygments_lexer": "ipython3",
   "version": "3.10.12"
  }
 },
 "nbformat": 4,
 "nbformat_minor": 2
}
